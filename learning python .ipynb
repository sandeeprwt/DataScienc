{
 "cells": [
  {
   "cell_type": "markdown",
   "metadata": {},
   "source": [
    "find max sum in arrey"
   ]
  },
  {
   "cell_type": "code",
   "execution_count": 2,
   "metadata": {},
   "outputs": [],
   "source": [
    "def  count_sum(arr):\n",
    "    if(len(arr)==0):\n",
    "        return 0\n",
    "    \n",
    "    max_sum=arr[0]\n",
    "    current_sum=arr[0]\n",
    "    for val in arr[1:] :\n",
    "        current_sum=max(current_sum + val , val)\n",
    "        max_sum = max(current_sum , max_sum)\n",
    "    print (max_sum)"
   ]
  },
  {
   "cell_type": "code",
   "execution_count": 6,
   "metadata": {},
   "outputs": [
    {
     "name": "stdout",
     "output_type": "stream",
     "text": [
      "21\n"
     ]
    }
   ],
   "source": [
    "count_sum([10,-8,-1,20])"
   ]
  },
  {
   "cell_type": "code",
   "execution_count": 8,
   "metadata": {},
   "outputs": [],
   "source": [
    "def missing(arr1 ,arr2):\n",
    "    arr1.sort()\n",
    "    arr2.sort()\n",
    "    for num1 ,num2 in zip(arr1,arr2):\n",
    "        if num1!=num2:\n",
    "            if num1 >num2:\n",
    "                return num2\n",
    "            else :\n",
    "                return num1"
   ]
  },
  {
   "cell_type": "code",
   "execution_count": 10,
   "metadata": {},
   "outputs": [
    {
     "data": {
      "text/plain": [
       "4"
      ]
     },
     "execution_count": 10,
     "metadata": {},
     "output_type": "execute_result"
    }
   ],
   "source": [
    "missing([2,3,5],[2,4,3,5])"
   ]
  },
  {
   "cell_type": "code",
   "execution_count": null,
   "metadata": {},
   "outputs": [],
   "source": []
  }
 ],
 "metadata": {
  "kernelspec": {
   "display_name": "Python 3",
   "language": "python",
   "name": "python3"
  },
  "language_info": {
   "codemirror_mode": {
    "name": "ipython",
    "version": 3
   },
   "file_extension": ".py",
   "mimetype": "text/x-python",
   "name": "python",
   "nbconvert_exporter": "python",
   "pygments_lexer": "ipython3",
   "version": "3.7.3"
  }
 },
 "nbformat": 4,
 "nbformat_minor": 2
}
